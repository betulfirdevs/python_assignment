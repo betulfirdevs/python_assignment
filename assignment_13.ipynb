{
  "nbformat": 4,
  "nbformat_minor": 0,
  "metadata": {
    "colab": {
      "provenance": [],
      "authorship_tag": "ABX9TyNofKbKF4IWFPv8LhBnOHCh",
      "include_colab_link": true
    },
    "kernelspec": {
      "name": "python3",
      "display_name": "Python 3"
    },
    "language_info": {
      "name": "python"
    }
  },
  "cells": [
    {
      "cell_type": "markdown",
      "metadata": {
        "id": "view-in-github",
        "colab_type": "text"
      },
      "source": [
        "<a href=\"https://colab.research.google.com/github/betulfirdevs/python_assignment/blob/main/assignment_13.ipynb\" target=\"_parent\"><img src=\"https://colab.research.google.com/assets/colab-badge.svg\" alt=\"Open In Colab\"/></a>"
      ]
    },
    {
      "cell_type": "code",
      "source": [
        "number = int(input(\"please enter a number: \"))\n",
        "if number > 1:\n",
        "  for i in range(2, number):\n",
        "    if (number % i) == 0 :\n",
        "      print(num,\"is not a prime number\")\n",
        "      print(i,\"times\",number//i,\"is\",number)\n",
        "      break\n",
        "  else:\n",
        "       print(number,\"is a prime number\")\n",
        "else:\n",
        "   print(number,\"is not a prime number\")\n"
      ],
      "metadata": {
        "colab": {
          "base_uri": "https://localhost:8080/"
        },
        "id": "VsRLKJQ8NIZB",
        "outputId": "8f1ac4b0-f160-4c36-b627-d055d4ea1ab9"
      },
      "execution_count": 4,
      "outputs": [
        {
          "output_type": "stream",
          "name": "stdout",
          "text": [
            "please enter a number: 19\n",
            "19 is a prime number\n"
          ]
        }
      ]
    }
  ]
}