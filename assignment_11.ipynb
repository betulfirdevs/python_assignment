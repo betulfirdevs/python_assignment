{
  "nbformat": 4,
  "nbformat_minor": 0,
  "metadata": {
    "colab": {
      "provenance": [],
      "authorship_tag": "ABX9TyMcTEAljuB2GnveXDs6fj6z",
      "include_colab_link": true
    },
    "kernelspec": {
      "name": "python3",
      "display_name": "Python 3"
    },
    "language_info": {
      "name": "python"
    }
  },
  "cells": [
    {
      "cell_type": "markdown",
      "metadata": {
        "id": "view-in-github",
        "colab_type": "text"
      },
      "source": [
        "<a href=\"https://colab.research.google.com/github/betulfirdevs/python_assignment/blob/main/assignment_11.ipynb\" target=\"_parent\"><img src=\"https://colab.research.google.com/assets/colab-badge.svg\" alt=\"Open In Colab\"/></a>"
      ]
    },
    {
      "cell_type": "code",
      "execution_count": 1,
      "metadata": {
        "colab": {
          "base_uri": "https://localhost:8080/"
        },
        "id": "SyQlQZ0p6P2V",
        "outputId": "7bc73b86-8a70-40ed-87e1-5a92967ff4a5"
      },
      "outputs": [
        {
          "output_type": "stream",
          "name": "stdout",
          "text": [
            "please enter a year: 2019\n",
            "2019 is not a leap year\n"
          ]
        }
      ],
      "source": [
        "year= int(input(\"please enter a year: \"))\n",
        "\n",
        "\n",
        "while year% 4== 0 :\n",
        "  print(f\"{year} is a leap year\")\n",
        "  break\n",
        "  if year %100 == 0 and year % 400 == 0:\n",
        "    print( f\"{year} is a leap year\")\n",
        "    break\n",
        "else:\n",
        "    print(f\"{year} is not a leap year\")"
      ]
    }
  ]
}