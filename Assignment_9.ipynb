{
  "nbformat": 4,
  "nbformat_minor": 0,
  "metadata": {
    "colab": {
      "provenance": [],
      "authorship_tag": "ABX9TyOnF1C6fywOwc9ZpWFJmWcS",
      "include_colab_link": true
    },
    "kernelspec": {
      "name": "python3",
      "display_name": "Python 3"
    },
    "language_info": {
      "name": "python"
    }
  },
  "cells": [
    {
      "cell_type": "markdown",
      "metadata": {
        "id": "view-in-github",
        "colab_type": "text"
      },
      "source": [
        "<a href=\"https://colab.research.google.com/github/betulfirdevs/python_assignment/blob/main/Assignment_9.ipynb\" target=\"_parent\"><img src=\"https://colab.research.google.com/assets/colab-badge.svg\" alt=\"Open In Colab\"/></a>"
      ]
    },
    {
      "cell_type": "code",
      "execution_count": 1,
      "metadata": {
        "colab": {
          "base_uri": "https://localhost:8080/"
        },
        "id": "62YXLq6QZahd",
        "outputId": "73d68820-3232-4b9e-e913-69a074824e7f"
      },
      "outputs": [
        {
          "output_type": "stream",
          "name": "stdout",
          "text": [
            "please enter your name: BetÜL\n",
            "Hello Betül ! your password is yippity99\n"
          ]
        }
      ],
      "source": [
        "name= \"Betül\"\n",
        "name_entry = input(\"please enter your name: \").title()\n",
        "\n",
        "while True:\n",
        "  password= \"yippity99\"\n",
        "\n",
        "  if name == name_entry :\n",
        "    print(f\"Hello {name} ! your password is {password}\")\n",
        "    break\n",
        "  else :\n",
        "    print(f\"Hello {name_entry} ! See you later\")\n",
        "    break\n"
      ]
    },
    {
      "cell_type": "code",
      "source": [
        "name= \"Betül\"\n",
        "name_entry = input(\"please enter your name: \").title()\n",
        "\n",
        "while True:\n",
        "  password= \"yippity99\"\n",
        "\n",
        "  if name == name_entry :\n",
        "    print(f\"Hello {name} ! your password is {password}\")\n",
        "    break\n",
        "  else :\n",
        "    print(f\"Hello {name_entry} ! See you later\")\n",
        "    break"
      ],
      "metadata": {
        "colab": {
          "base_uri": "https://localhost:8080/"
        },
        "id": "BWazrPMpZoqW",
        "outputId": "d467a725-ab3e-4d3b-9a01-e67b842c7085"
      },
      "execution_count": 2,
      "outputs": [
        {
          "output_type": "stream",
          "name": "stdout",
          "text": [
            "please enter your name: Can\n",
            "Hello Can ! See you later\n"
          ]
        }
      ]
    }
  ]
}