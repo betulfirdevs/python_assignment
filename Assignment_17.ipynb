{
  "nbformat": 4,
  "nbformat_minor": 0,
  "metadata": {
    "colab": {
      "provenance": [],
      "authorship_tag": "ABX9TyNYT/JAHcbeBc0ocsLS+MBi",
      "include_colab_link": true
    },
    "kernelspec": {
      "name": "python3",
      "display_name": "Python 3"
    },
    "language_info": {
      "name": "python"
    }
  },
  "cells": [
    {
      "cell_type": "markdown",
      "metadata": {
        "id": "view-in-github",
        "colab_type": "text"
      },
      "source": [
        "<a href=\"https://colab.research.google.com/github/betulfirdevs/python_assignment/blob/main/Assignment_17.ipynb\" target=\"_parent\"><img src=\"https://colab.research.google.com/assets/colab-badge.svg\" alt=\"Open In Colab\"/></a>"
      ]
    },
    {
      "cell_type": "code",
      "execution_count": 7,
      "metadata": {
        "colab": {
          "base_uri": "https://localhost:8080/"
        },
        "id": "mXkpacA3gjKL",
        "outputId": "a87f059b-fa96-4bde-c68a-465dab2ef7e1"
      },
      "outputs": [
        {
          "output_type": "stream",
          "name": "stdout",
          "text": [
            "please enter a sentence: I want to write a sentence that contains when letter several times\n",
            "the letters and the amount of times they are in your sentence: \n",
            " Counter({' ': 11, 't': 10, 'e': 10, 'n': 6, 'a': 5, 's': 4, 'w': 3, 'r': 3, 'i': 3, 'o': 2, 'c': 2, 'h': 2, 'l': 2, 'I': 1, 'v': 1, 'm': 1})\n"
          ]
        }
      ],
      "source": [
        "from collections import Counter\n",
        "\n",
        "sentence= input(\"please enter a sentence: \")\n",
        "\n",
        "dict_output= Counter(sentence)\n",
        "\n",
        "print(\"the letters and the amount of times they are in your sentence: \\n\", dict_output)"
      ]
    }
  ]
}