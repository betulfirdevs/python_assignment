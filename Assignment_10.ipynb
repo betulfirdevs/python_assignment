{
  "nbformat": 4,
  "nbformat_minor": 0,
  "metadata": {
    "colab": {
      "provenance": [],
      "authorship_tag": "ABX9TyO7ixQBApzNAAdLViI6eH9x",
      "include_colab_link": true
    },
    "kernelspec": {
      "name": "python3",
      "display_name": "Python 3"
    },
    "language_info": {
      "name": "python"
    }
  },
  "cells": [
    {
      "cell_type": "markdown",
      "metadata": {
        "id": "view-in-github",
        "colab_type": "text"
      },
      "source": [
        "<a href=\"https://colab.research.google.com/github/betulfirdevs/python_assignment/blob/main/Assignment_10.ipynb\" target=\"_parent\"><img src=\"https://colab.research.google.com/assets/colab-badge.svg\" alt=\"Open In Colab\"/></a>"
      ]
    },
    {
      "cell_type": "code",
      "execution_count": 1,
      "metadata": {
        "colab": {
          "base_uri": "https://localhost:8080/"
        },
        "id": "h4j84aZvnf-S",
        "outputId": "39e612f3-d48b-45af-ea33-5eb91a0ee9cb"
      },
      "outputs": [
        {
          "output_type": "stream",
          "name": "stdout",
          "text": [
            "are you a cigarette addict older than 75 (yes/no): no\n",
            "do you have a severe chronic disease? (yes/no): no\n",
            "is your immune system weak? (yes/no): no\n",
            "you are not at risk of death from Covid-19\n"
          ]
        }
      ],
      "source": [
        "age= input(\"are you a cigarette addict older than 75 (yes/no): \")\n",
        "chronic= input(\"do you have a severe chronic disease? (yes/no): \")\n",
        "immune= input(\"is your immune system weak? (yes/no): \")\n",
        "risk= age or chronic or immune\n",
        "if  risk == \"yes\":\n",
        "  print(\"You are at risk of death from Covid-19\")\n",
        "else :\n",
        "  print(\"you are not at risk of death from Covid-19\")"
      ]
    }
  ]
}